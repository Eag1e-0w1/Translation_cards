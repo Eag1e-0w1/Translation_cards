{
 "cells": [
  {
   "cell_type": "code",
   "execution_count": 1,
   "id": "cb3dc542",
   "metadata": {
    "code_folding": []
   },
   "outputs": [],
   "source": [
    "import pandas as pd\n",
    "import os"
   ]
  },
  {
   "cell_type": "code",
   "execution_count": 3,
   "id": "e2482c3c",
   "metadata": {
    "code_folding": []
   },
   "outputs": [],
   "source": [
    "def cards(file_path):\n",
    "    '''\n",
    "    На вход подается сохраненный файл переводов из google.translate в формате .csv. \n",
    "    На выходе выдает .txt файл, который можно загрузить в программу. \n",
    "    '''\n",
    "    data = pd.read_csv(file_path, names=['1','2','english','russian'])\n",
    "    data.drop(['1','2'], axis=1, inplace=True )\n",
    "    data[';'] = ';'\n",
    "    data['translate'] = data['english'] + data[';'] + data['russian']\n",
    "    data['translate'].to_csv('Datasets/translate.txt', index=False, header=False)\n",
    "    os.remove('Datasets/Сохраненные переводы - Сохраненные переводы.csv')\n",
    "    \n",
    "cards('Datasets/Сохраненные переводы - Сохраненные переводы.csv')"
   ]
  }
 ],
 "metadata": {
  "ExecuteTimeLog": [
   {
    "duration": 544,
    "start_time": "2023-03-27T09:25:28.596Z"
   },
   {
    "duration": 98,
    "start_time": "2023-03-27T09:25:29.142Z"
   },
   {
    "duration": 0,
    "start_time": "2023-03-27T09:25:29.242Z"
   },
   {
    "duration": 0,
    "start_time": "2023-03-27T09:25:29.243Z"
   },
   {
    "duration": 0,
    "start_time": "2023-03-27T09:25:29.244Z"
   },
   {
    "duration": 0,
    "start_time": "2023-03-27T09:25:29.245Z"
   },
   {
    "duration": 0,
    "start_time": "2023-03-27T09:25:29.245Z"
   },
   {
    "duration": 0,
    "start_time": "2023-03-27T09:25:29.246Z"
   },
   {
    "duration": 0,
    "start_time": "2023-03-27T09:25:29.247Z"
   },
   {
    "duration": 0,
    "start_time": "2023-03-27T09:25:29.248Z"
   },
   {
    "duration": 0,
    "start_time": "2023-03-27T09:25:29.249Z"
   },
   {
    "duration": 0,
    "start_time": "2023-03-27T09:25:29.250Z"
   },
   {
    "duration": 0,
    "start_time": "2023-03-27T09:25:29.250Z"
   },
   {
    "duration": 0,
    "start_time": "2023-03-27T09:25:29.251Z"
   },
   {
    "duration": 0,
    "start_time": "2023-03-27T09:25:29.252Z"
   },
   {
    "duration": 0,
    "start_time": "2023-03-27T09:25:29.253Z"
   },
   {
    "duration": 0,
    "start_time": "2023-03-27T09:25:29.254Z"
   },
   {
    "duration": 0,
    "start_time": "2023-03-27T09:25:29.255Z"
   },
   {
    "duration": 0,
    "start_time": "2023-03-27T09:25:29.256Z"
   },
   {
    "duration": 0,
    "start_time": "2023-03-27T09:25:29.257Z"
   },
   {
    "duration": 0,
    "start_time": "2023-03-27T09:25:29.268Z"
   },
   {
    "duration": 0,
    "start_time": "2023-03-27T09:25:29.269Z"
   },
   {
    "duration": 0,
    "start_time": "2023-03-27T09:25:29.270Z"
   },
   {
    "duration": 0,
    "start_time": "2023-03-27T09:25:29.271Z"
   },
   {
    "duration": 0,
    "start_time": "2023-03-27T09:25:29.272Z"
   },
   {
    "duration": 0,
    "start_time": "2023-03-27T09:25:29.273Z"
   },
   {
    "duration": 0,
    "start_time": "2023-03-27T09:25:29.274Z"
   },
   {
    "duration": 0,
    "start_time": "2023-03-27T09:25:29.275Z"
   },
   {
    "duration": 0,
    "start_time": "2023-03-27T09:25:29.276Z"
   },
   {
    "duration": 1,
    "start_time": "2023-03-27T09:25:29.276Z"
   },
   {
    "duration": 0,
    "start_time": "2023-03-27T09:25:29.278Z"
   },
   {
    "duration": 0,
    "start_time": "2023-03-27T09:25:29.279Z"
   },
   {
    "duration": 0,
    "start_time": "2023-03-27T09:25:29.279Z"
   },
   {
    "duration": 1,
    "start_time": "2023-03-27T09:25:29.280Z"
   },
   {
    "duration": 0,
    "start_time": "2023-03-27T09:25:29.282Z"
   },
   {
    "duration": 0,
    "start_time": "2023-03-27T09:25:29.283Z"
   },
   {
    "duration": 0,
    "start_time": "2023-03-27T09:25:29.283Z"
   },
   {
    "duration": 0,
    "start_time": "2023-03-27T09:25:29.284Z"
   },
   {
    "duration": 0,
    "start_time": "2023-03-27T09:25:29.285Z"
   },
   {
    "duration": 0,
    "start_time": "2023-03-27T09:25:29.286Z"
   },
   {
    "duration": 0,
    "start_time": "2023-03-27T09:25:29.287Z"
   },
   {
    "duration": 0,
    "start_time": "2023-03-27T09:25:29.288Z"
   },
   {
    "duration": 0,
    "start_time": "2023-03-27T09:25:29.289Z"
   },
   {
    "duration": 0,
    "start_time": "2023-03-27T09:25:29.290Z"
   }
  ],
  "kernelspec": {
   "display_name": "Python 3 (ipykernel)",
   "language": "python",
   "name": "python3"
  },
  "language_info": {
   "codemirror_mode": {
    "name": "ipython",
    "version": 3
   },
   "file_extension": ".py",
   "mimetype": "text/x-python",
   "name": "python",
   "nbconvert_exporter": "python",
   "pygments_lexer": "ipython3",
   "version": "3.11.6"
  },
  "toc": {
   "base_numbering": 1,
   "nav_menu": {},
   "number_sections": true,
   "sideBar": true,
   "skip_h1_title": true,
   "title_cell": "Table of Contents",
   "title_sidebar": "Contents",
   "toc_cell": false,
   "toc_position": {},
   "toc_section_display": true,
   "toc_window_display": false
  },
  "varInspector": {
   "cols": {
    "lenName": 16,
    "lenType": 16,
    "lenVar": 40
   },
   "kernels_config": {
    "python": {
     "delete_cmd_postfix": "",
     "delete_cmd_prefix": "del ",
     "library": "var_list.py",
     "varRefreshCmd": "print(var_dic_list())"
    },
    "r": {
     "delete_cmd_postfix": ") ",
     "delete_cmd_prefix": "rm(",
     "library": "var_list.r",
     "varRefreshCmd": "cat(var_dic_list()) "
    }
   },
   "types_to_exclude": [
    "module",
    "function",
    "builtin_function_or_method",
    "instance",
    "_Feature"
   ],
   "window_display": false
  }
 },
 "nbformat": 4,
 "nbformat_minor": 5
}
